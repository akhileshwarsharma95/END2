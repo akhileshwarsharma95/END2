{
  "nbformat": 4,
  "nbformat_minor": 0,
  "metadata": {
    "colab": {
      "name": "END2.0 Session 1.ipynb",
      "provenance": [],
      "include_colab_link": true
    },
    "kernelspec": {
      "name": "python3",
      "display_name": "Python 3"
    },
    "language_info": {
      "name": "python"
    }
  },
  "cells": [
    {
      "cell_type": "markdown",
      "metadata": {
        "id": "view-in-github",
        "colab_type": "text"
      },
      "source": [
        "<a href=\"https://colab.research.google.com/github/akhileshwarsharma95/END2/blob/main/Phase1/END2_0_Session_1.ipynb\" target=\"_parent\"><img src=\"https://colab.research.google.com/assets/colab-badge.svg\" alt=\"Open In Colab\"/></a>"
      ]
    },
    {
      "cell_type": "code",
      "metadata": {
        "colab": {
          "base_uri": "https://localhost:8080/"
        },
        "id": "GC_6PeobwwkH",
        "outputId": "d350f8d3-23a3-449e-afa6-554455c17506"
      },
      "source": [
        "import torch\n",
        "from torch.autograd import Variable\n",
        "import torch.nn as nn\n",
        "import torch.nn.functional as F\n",
        "import torch.optim as optim\n",
        "import numpy as np\n",
        "import matplotlib.pyplot as plt\n",
        "%matplotlib inline\n",
        "torch.manual_seed(2)"
      ],
      "execution_count": 52,
      "outputs": [
        {
          "output_type": "execute_result",
          "data": {
            "text/plain": [
              "<torch._C.Generator at 0x7ff3d613a8d0>"
            ]
          },
          "metadata": {
            "tags": []
          },
          "execution_count": 52
        }
      ]
    },
    {
      "cell_type": "code",
      "metadata": {
        "id": "bL64bMTkw2GP"
      },
      "source": [
        "X = torch.Tensor([[0,0], [0,1], [1,0], [1,1]])\n",
        "Y = torch.Tensor([0, 1, 1, 0]).view(-1,1)"
      ],
      "execution_count": 53,
      "outputs": []
    },
    {
      "cell_type": "code",
      "metadata": {
        "id": "aC82kEAIw3Wf"
      },
      "source": [
        "class XOR(nn.Module):\n",
        "    def __init__(self, input_dim = 2, output_dim=1):\n",
        "        super(XOR, self).__init__()\n",
        "        self.lin1 = nn.Linear(input_dim, 11)  # b) 44 parameters\n",
        "        self.lin2 = nn.Linear(11, output_dim,bias=False)\n",
        "\n",
        "        #Alternative \n",
        "        #There is no other solution other than this for the given architecture (same input, same output and one hidden layer).\n",
        "\n",
        "    \n",
        "    def forward(self, x):\n",
        "        x = self.lin1(x)\n",
        "        x = F.tanh(x)\n",
        "        x = self.lin2(x)\n",
        "        #x = F.tanh(x)   a) Removed tanh from last layer\n",
        "        return x"
      ],
      "execution_count": 54,
      "outputs": []
    },
    {
      "cell_type": "code",
      "metadata": {
        "colab": {
          "base_uri": "https://localhost:8080/"
        },
        "id": "W9K36xktmutr",
        "outputId": "5b5d9465-3dea-4d33-e3a3-8f43f37104e4"
      },
      "source": [
        "model = XOR()\n",
        "print(model)\n",
        "from torchsummary import summary\n",
        "summary(model, (2,2))"
      ],
      "execution_count": 55,
      "outputs": [
        {
          "output_type": "stream",
          "text": [
            "XOR(\n",
            "  (lin1): Linear(in_features=2, out_features=11, bias=True)\n",
            "  (lin2): Linear(in_features=11, out_features=1, bias=False)\n",
            ")\n",
            "----------------------------------------------------------------\n",
            "        Layer (type)               Output Shape         Param #\n",
            "================================================================\n",
            "            Linear-1                [-1, 2, 11]              33\n",
            "            Linear-2                 [-1, 2, 1]              11\n",
            "================================================================\n",
            "Total params: 44\n",
            "Trainable params: 44\n",
            "Non-trainable params: 0\n",
            "----------------------------------------------------------------\n",
            "Input size (MB): 0.00\n",
            "Forward/backward pass size (MB): 0.00\n",
            "Params size (MB): 0.00\n",
            "Estimated Total Size (MB): 0.00\n",
            "----------------------------------------------------------------\n"
          ],
          "name": "stdout"
        },
        {
          "output_type": "stream",
          "text": [
            "/usr/local/lib/python3.7/dist-packages/torch/nn/functional.py:1698: UserWarning: nn.functional.tanh is deprecated. Use torch.tanh instead.\n",
            "  warnings.warn(\"nn.functional.tanh is deprecated. Use torch.tanh instead.\")\n"
          ],
          "name": "stderr"
        }
      ]
    },
    {
      "cell_type": "code",
      "metadata": {
        "id": "yeotEq19x6XF"
      },
      "source": [
        "def weights_init(model):\n",
        "    for m in model.modules():\n",
        "        if isinstance(m, nn.Linear):\n",
        "            # initialize the weight tensor, here we use a normal distribution\n",
        "            m.weight.data.normal_(0, 1)\n",
        "\n",
        "weights_init(model)"
      ],
      "execution_count": 56,
      "outputs": []
    },
    {
      "cell_type": "code",
      "metadata": {
        "id": "WrD_sNzLx78e"
      },
      "source": [
        "loss_func = nn.L1Loss()"
      ],
      "execution_count": 57,
      "outputs": []
    },
    {
      "cell_type": "code",
      "metadata": {
        "id": "-zvbrMd2x_lA"
      },
      "source": [
        "optimizer = optim.SGD(model.parameters(), lr=0.02, momentum=0.9)\n"
      ],
      "execution_count": 58,
      "outputs": []
    },
    {
      "cell_type": "code",
      "metadata": {
        "colab": {
          "base_uri": "https://localhost:8080/"
        },
        "id": "q7tWa3D7yA5X",
        "outputId": "8ed23556-7506-4613-c3aa-7b6a643156a7"
      },
      "source": [
        "epochs = 2001    #c) Epochs changed to 2001 from 300\n",
        "steps = X.size(0)\n",
        "for i in range(epochs):\n",
        "    for j in range(steps):\n",
        "        data_point = np.random.randint(X.size(0))\n",
        "        x_var = Variable(X[data_point], requires_grad=False)\n",
        "        y_var = Variable(Y[data_point], requires_grad=False)\n",
        "        \n",
        "        optimizer.zero_grad()\n",
        "        y_hat = model(x_var)\n",
        "        loss = loss_func.forward(y_hat, y_var)\n",
        "        loss.backward()\n",
        "        optimizer.step()\n",
        "        \n",
        "    if i % 50 == 0:\n",
        "        print( \"Epoch: {0}, Loss: {1}, \".format(i, loss.data.numpy()))"
      ],
      "execution_count": 59,
      "outputs": [
        {
          "output_type": "stream",
          "text": [
            "/usr/local/lib/python3.7/dist-packages/torch/nn/functional.py:1698: UserWarning: nn.functional.tanh is deprecated. Use torch.tanh instead.\n",
            "  warnings.warn(\"nn.functional.tanh is deprecated. Use torch.tanh instead.\")\n"
          ],
          "name": "stderr"
        },
        {
          "output_type": "stream",
          "text": [
            "Epoch: 0, Loss: 2.1243667602539062, \n",
            "Epoch: 50, Loss: 0.09304535388946533, \n",
            "Epoch: 100, Loss: 0.14020001888275146, \n",
            "Epoch: 150, Loss: 0.18337386846542358, \n",
            "Epoch: 200, Loss: 0.19349706172943115, \n",
            "Epoch: 250, Loss: 0.14428013563156128, \n",
            "Epoch: 300, Loss: 0.1442420482635498, \n",
            "Epoch: 350, Loss: 0.453768789768219, \n",
            "Epoch: 400, Loss: 0.3766806125640869, \n",
            "Epoch: 450, Loss: 0.03958404064178467, \n",
            "Epoch: 500, Loss: 0.18961763381958008, \n",
            "Epoch: 550, Loss: 0.21987861394882202, \n",
            "Epoch: 600, Loss: 0.009836912155151367, \n",
            "Epoch: 650, Loss: 0.04443824291229248, \n",
            "Epoch: 700, Loss: 0.22510141134262085, \n",
            "Epoch: 750, Loss: 0.11490678787231445, \n",
            "Epoch: 800, Loss: 0.1604527235031128, \n",
            "Epoch: 850, Loss: 0.21360215544700623, \n",
            "Epoch: 900, Loss: 0.15592288970947266, \n",
            "Epoch: 950, Loss: 0.015880286693572998, \n",
            "Epoch: 1000, Loss: 0.014558374881744385, \n",
            "Epoch: 1050, Loss: 0.06037372350692749, \n",
            "Epoch: 1100, Loss: 0.025297462940216064, \n",
            "Epoch: 1150, Loss: 0.10593414306640625, \n",
            "Epoch: 1200, Loss: 0.16512352228164673, \n",
            "Epoch: 1250, Loss: 0.14440107345581055, \n",
            "Epoch: 1300, Loss: 0.0036785006523132324, \n",
            "Epoch: 1350, Loss: 0.07921892404556274, \n",
            "Epoch: 1400, Loss: 0.047954440116882324, \n",
            "Epoch: 1450, Loss: 0.3844488263130188, \n",
            "Epoch: 1500, Loss: 0.31426048278808594, \n",
            "Epoch: 1550, Loss: 0.0335235595703125, \n",
            "Epoch: 1600, Loss: 0.28655099868774414, \n",
            "Epoch: 1650, Loss: 0.05728423595428467, \n",
            "Epoch: 1700, Loss: 0.14466768503189087, \n",
            "Epoch: 1750, Loss: 0.03464609384536743, \n",
            "Epoch: 1800, Loss: 0.10247206687927246, \n",
            "Epoch: 1850, Loss: 0.05352705717086792, \n",
            "Epoch: 1900, Loss: 0.027310967445373535, \n",
            "Epoch: 1950, Loss: 0.11979961395263672, \n",
            "Epoch: 2000, Loss: 0.19089579582214355, \n"
          ],
          "name": "stdout"
        }
      ]
    },
    {
      "cell_type": "code",
      "metadata": {
        "id": "QV0dIdveyCRi"
      },
      "source": [
        ""
      ],
      "execution_count": null,
      "outputs": []
    }
  ]
}